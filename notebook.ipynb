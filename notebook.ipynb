{
 "cells": [
  {
   "cell_type": "code",
   "execution_count": 1,
   "metadata": {},
   "outputs": [],
   "source": [
    "import boto3\n",
    "\n"
   ]
  },
  {
   "cell_type": "code",
   "execution_count": 2,
   "metadata": {},
   "outputs": [],
   "source": [
    "def list_files_in_bucket(bucket_name, folder_name):\n",
    "    s3 = boto3.client('s3')\n",
    "\n",
    "    try:\n",
    "        response = s3.list_objects(Bucket=bucket_name, Prefix=folder_name)\n",
    "        file = [content['Key'] for content in response['Contents']]\n",
    "        return response\n",
    "    except Exception as e:\n",
    "        print(e)\n",
    "        return []"
   ]
  },
  {
   "cell_type": "code",
   "execution_count": 3,
   "metadata": {},
   "outputs": [
    {
     "name": "stderr",
     "output_type": "stream",
     "text": [
      "C:\\Users\\wbore\\AppData\\Local\\Packages\\PythonSoftwareFoundation.Python.3.7_qbz5n2kfra8p0\\LocalCache\\local-packages\\Python37\\site-packages\\boto3\\compat.py:82: PythonDeprecationWarning: Boto3 will no longer support Python 3.7 starting December 13, 2023. To continue receiving service updates, bug fixes, and security updates please upgrade to Python 3.8 or later. More information can be found here: https://aws.amazon.com/blogs/developer/python-support-policy-updates-for-aws-sdks-and-tools/\n",
      "  warnings.warn(warning, PythonDeprecationWarning)\n"
     ]
    },
    {
     "name": "stdout",
     "output_type": "stream",
     "text": [
      "{'ResponseMetadata': {'RequestId': 'K90DKR2P4HH6RE3G', 'HostId': 'xsdboI0imsisoA6xtJhceaaC1YHUfI+jaGQj9KDetuhVC3ughoEmLZMrWkM42m4a6NLDe/O/M5hkJjJgDT6QvA==', 'HTTPStatusCode': 200, 'HTTPHeaders': {'x-amz-id-2': 'xsdboI0imsisoA6xtJhceaaC1YHUfI+jaGQj9KDetuhVC3ughoEmLZMrWkM42m4a6NLDe/O/M5hkJjJgDT6QvA==', 'x-amz-request-id': 'K90DKR2P4HH6RE3G', 'date': 'Sun, 26 Nov 2023 00:32:25 GMT', 'x-amz-bucket-region': 'us-east-2', 'content-type': 'application/xml', 'transfer-encoding': 'chunked', 'server': 'AmazonS3'}, 'RetryAttempts': 0}, 'IsTruncated': False, 'Marker': '', 'Name': 'solutions-in-bi', 'Prefix': 'pyt', 'MaxKeys': 1000, 'EncodingType': 'url'}\n"
     ]
    }
   ],
   "source": [
    "bucket_name = 'solutions-in-bi'\n",
    "folder_name = 'pyt'\n",
    "\n",
    "s3 = boto3.client('s3')\n",
    "lista = s3.list_objects(Bucket=bucket_name, Prefix=folder_name)\n",
    "print(lista)\n"
   ]
  },
  {
   "cell_type": "code",
   "execution_count": 6,
   "metadata": {},
   "outputs": [],
   "source": [
    "\n"
   ]
  }
 ],
 "metadata": {
  "kernelspec": {
   "display_name": "Python 3",
   "language": "python",
   "name": "python3"
  },
  "language_info": {
   "codemirror_mode": {
    "name": "ipython",
    "version": 3
   },
   "file_extension": ".py",
   "mimetype": "text/x-python",
   "name": "python",
   "nbconvert_exporter": "python",
   "pygments_lexer": "ipython3",
   "version": "3.7.9"
  }
 },
 "nbformat": 4,
 "nbformat_minor": 2
}
